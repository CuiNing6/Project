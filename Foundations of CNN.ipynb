{
 "cells": [
  {
   "cell_type": "markdown",
   "metadata": {},
   "source": [
    "# Convolutional Neural Networks: Foundations \n",
    "为了更好的理解CNN，在此进行一些复习总结，说实话，我也不知道该以怎样的架构来构建这个复习版本，不过可以就我所学过程中遇到的问题或者学习过程中的一些捷径记下来，方便以后查看，由于目前还是所知甚少，所以难免有一些错误，如果有人发现了错误，请及时联系我更正或者直接修改，并备注一下修改的地方。  \n",
    "关于这个foundations，主要的引用来源有[DeepLearning.ai](https://www.coursera.org/specializations/deep-learning)和Ian Goodfellow等编著的Deep Learning，如果想转载这个foundations，请指明来源。  \n",
    "(未完待续。。。)"
   ]
  },
  {
   "cell_type": "markdown",
   "metadata": {},
   "source": [
    "## 1 - Outline of the Basics\n",
    "按照实现卷积神经网络的构建模块来分别介绍卷积神经网络的基础知识，这里列出涉及的相关内容：  \n",
    "- Convolution\n",
    "- Padding\n",
    "- Pooling\n",
    "- Fully connected\n",
    "- Why convolutions\n",
    "- 梯度消失和梯度爆炸\n",
    "- 优化方法\n",
    "- 损失函数"
   ]
  },
  {
   "cell_type": "markdown",
   "metadata": {},
   "source": [
    "## 2 - Convolution\n",
    "“卷积神经网络” 一词表明该网络使用了卷积（convolution）这种数学运算。卷积是一种特殊的线性运算。卷积网络是指那些至少在网络的一层中使用卷积运算来替代一般的矩阵乘法运算的神经网络。通常来说，卷积神经网络中用到的卷积运算和其他领域（例如工程领域以及纯数学领域）中的定义并不完全一致。下面将介绍神经网络实践中广泛应用的几种卷积函数。  \n",
    "卷积是对两个实变函数的一种数学运算，形如：  \n",
    "<center>$s(t)$=$\\int x(a)w(t-a)da$</center>   \n",
    "通常用星号表示：\n",
    "<center>$s(t)$=$(x * w)(t)$</center>   \n",
    "在卷积网络的术语中，卷积的第一个参数x通常叫做输入（input），第二个参数w叫做核函数（kernel function）。输出有时被称作特征映射（feature map）  \n",
    "其离散形式形如：  \n",
    "<center>$s(t)$=$(x * w)(t)$=$\\sum_{a= -\\infty}^\\infty x(a)w(t-a)$ </center>  \n",
    "在机器学习的应用中，输入通常是多维数组的数据，而核通常是由学习算法优化得到的多维数组的参数。那么就需要在多个维度上进行卷积运算。例如，如果把一张二维的像I作为输入，并使用一个二维的核K：  \n",
    "<center>$S(i,j)$=$(I * K)(i,j)$=$\\sum_{m}\\sum_{n} I(m,n)K(i-m,j-n)$</center>  \n",
    "因为卷积是可交换的，所以可以等价的写作：\n",
    "<center>$S(i,j)$=$(K * I)(i,j)$=$\\sum_{m}\\sum_{n} I(i-m,j-n)K(m,n)$</center>  \n",
    "通常，为了在机器学习库中实现更为简单，卷积往往使用如下形式：  \n",
    "<center>$S(i,j)$=$(I * K)(i,j)$=$\\sum_{m}\\sum_{n} I(i+m,j+n)K(m,n)$</center>\n",
    "使用上式的好处在于m和n的有效取值范围都相对较小。而将核相对输入进行翻转（flip）得到了卷积运算可交换性，从m增大的角度来看，输入的索引在增大，但是核的索引在减小。将核翻转的唯一目的是实现可交换性。尽管可交换性在证明时很有用，但在神经网络的应用中却不是一个重要的性质。与之不同的是，许多神经网络库会实现一个相关的函数，称为互相关函数（cross-correlation），和卷积运算几乎一样但是并没有对核进行翻转，许多机器学习的库实现的是互相关函数，但一样称之为卷积。  \n",
    "下图形象的展示了卷积运算的过程，我就不过多赘述了  \n",
    "<img src=\"images/Convolution_schematic.gif\" style=\"width:500px;height:300px;\">\n",
    "<caption><center> <u> <font color='purple'> **图 1** </u><font color='purple'>  : **卷积运算**<br> 卷积核 2x2 步幅 1(步幅是卷积核每次在窗口滑动的距离)</center></caption>"
   ]
  },
  {
   "cell_type": "markdown",
   "metadata": {},
   "source": [
    "## 3 - Padding  \n",
    "Padding是指在图像之间添加额外的零层，分为两种情况，一种是有效Padding，另一种是相同Padding，相同Padding目的是使输出图像的大小与输入相同，在应用卷积核之后，在相同填充的情况下，卷积层输出等于实际图像的大小。有效Padding是指将图像保持为具有实际或“有效”图像的所有像素。在这种情况下，在应用滤波器之后，输出的长度和宽度的大小在每个卷积层处不断减小。\n",
    "通常使用的Zero-Padding，关于Zero-Padding，使用一张图来介绍：  \n",
    "<img src=\"images/PAD.png\" style=\"width:600px;height:400px;\">\n",
    "<caption><center> <u> <font color='purple'> **图 2** </u><font color='purple'>  : **Zero-Padding**<br> 图片是 3通道, RGB. </center></caption>"
   ]
  },
  {
   "cell_type": "markdown",
   "metadata": {},
   "source": [
    "## 3 - Pooling\n"
   ]
  },
  {
   "cell_type": "markdown",
   "metadata": {},
   "source": [
    "## 2 - Why Convolutions\n",
    "卷积神经网络是深度学习中的一种，擅长处理图像问题。典型的卷积神经网络由卷积层、池化层、全连接层组成。其中卷积层与池化层配合，组成多个卷积组，逐层提取特征，最终通过若干个全连接层完成分类。其中卷积层是受局部感受野概念启发而产生，而池化层的作用主要是为了降低数据维度。那么，卷积神经网络究竟是怎么发挥作用的，我们为什么需要卷积神经网络呢？\n",
    "下图给出一个最简单的卷积神经网络模块：\n",
    "<img src=\"images/1.png\" style=\"width:800px;height:300px;\">\n",
    "那么其中的CONV层做的主要工作是什么呢？下图是卷积前后的对比：\n",
    "<img src=\"images/conv_nn.png\" style=\"width:350px;height:200px;\">\n",
    "卷积层将输入转换为不同大小的输出。这么做的好处主要表现在两个\n"
   ]
  },
  {
   "cell_type": "code",
   "execution_count": null,
   "metadata": {
    "collapsed": true
   },
   "outputs": [],
   "source": []
  }
 ],
 "metadata": {
  "anaconda-cloud": {},
  "kernelspec": {
   "display_name": "Python [default]",
   "language": "python",
   "name": "python3"
  },
  "language_info": {
   "codemirror_mode": {
    "name": "ipython",
    "version": 3
   },
   "file_extension": ".py",
   "mimetype": "text/x-python",
   "name": "python",
   "nbconvert_exporter": "python",
   "pygments_lexer": "ipython3",
   "version": "3.5.2"
  }
 },
 "nbformat": 4,
 "nbformat_minor": 1
}

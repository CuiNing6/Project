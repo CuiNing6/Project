{
 "cells": [
  {
   "cell_type": "code",
   "execution_count": 1,
   "metadata": {
    "collapsed": false
   },
   "outputs": [
    {
     "name": "stderr",
     "output_type": "stream",
     "text": [
      "Using TensorFlow backend.\n"
     ]
    }
   ],
   "source": [
    "import sys\n",
    "import argparse\n",
    "import numpy as np\n",
    "from PIL import Image\n",
    "import requests\n",
    "from io import BytesIO\n",
    "import matplotlib.pyplot as plt\n",
    "import os\n",
    "import glob\n",
    "import csv\n",
    "from keras.preprocessing import image\n",
    "from keras.models import load_model\n",
    "from keras.applications.inception_v3 import preprocess_input"
   ]
  },
  {
   "cell_type": "code",
   "execution_count": 2,
   "metadata": {
    "collapsed": true
   },
   "outputs": [],
   "source": [
    "# 预测函数\n",
    "# 输入：model，图片，目标尺寸\n",
    "# 输出：预测predict\n",
    "def predict(model, img, target_size):\n",
    "  \"\"\"Run model prediction on image\n",
    "  Args:\n",
    "    model: keras model\n",
    "    img: PIL format image\n",
    "    target_size: (w,h) tuple\n",
    "  Returns:\n",
    "    list of predicted labels and their probabilities\n",
    "  \"\"\"\n",
    "  if img.size != target_size:\n",
    "    img = img.resize(target_size)\n",
    "\n",
    "  x = image.img_to_array(img)\n",
    "  x = np.expand_dims(x, axis=0)\n",
    "  x = preprocess_input(x)\n",
    "  preds = model.predict(x)\n",
    "  return preds[0]"
   ]
  },
  {
   "cell_type": "code",
   "execution_count": 3,
   "metadata": {
    "collapsed": true
   },
   "outputs": [],
   "source": [
    "#调整顺序\n",
    "def turn(preds):\n",
    "    preds = np.array(preds)\n",
    "    preds_s=np.zeros((30,))\n",
    "    preds_s[0]=preds[0]\n",
    "    preds_s[9]=preds[1]\n",
    "    preds_s[10]=preds[2]\n",
    "    preds_s[11]=preds[3]\n",
    "    preds_s[12]=preds[4]\n",
    "    preds_s[13]=preds[5]\n",
    "    preds_s[14]=preds[6]\n",
    "    preds_s[15]=preds[7]\n",
    "    preds_s[16]=preds[8]\n",
    "    preds_s[17]=preds[9]\n",
    "    preds_s[18]=preds[10]\n",
    "    preds_s[1]=preds[11]\n",
    "    preds_s[19]=preds[12]\n",
    "    preds_s[20]=preds[13]\n",
    "    preds_s[21]=preds[14]\n",
    "    preds_s[22]=preds[15]\n",
    "    preds_s[23]=preds[16]\n",
    "    preds_s[24]=preds[17]\n",
    "    preds_s[25]=preds[18]\n",
    "    preds_s[26]=preds[19]\n",
    "    preds_s[27]=preds[20]\n",
    "    preds_s[28]=preds[21]\n",
    "    preds_s[2]=preds[22]\n",
    "    preds_s[29]=preds[23]\n",
    "    preds_s[3]=preds[24]\n",
    "    preds_s[4]=preds[25]\n",
    "    preds_s[5]=preds[26]\n",
    "    preds_s[6]=preds[27]\n",
    "    preds_s[7]=preds[28]\n",
    "    preds_s[8]=preds[29]\n",
    "    return preds_s"
   ]
  },
  {
   "cell_type": "code",
   "execution_count": 4,
   "metadata": {
    "collapsed": true
   },
   "outputs": [],
   "source": [
    "def write_to_csv(aug_softmax,imggs):\n",
    "    with open('resultb6.csv', 'a',newline='',encoding='utf-8') as csvfile:\n",
    "        spamwriter = csv.writer(csvfile,dialect='excel')\n",
    "        for c in range(0,30):\n",
    "            spamwriter.writerow([int(str(imggs).split('.')[0]), c+1, preds_output[c]])"
   ]
  },
  {
   "cell_type": "code",
   "execution_count": 5,
   "metadata": {
    "collapsed": false
   },
   "outputs": [],
   "source": [
    "# 载入模型\n",
    "vgg16model = load_model('weight/vgg16.h5')\n",
    "vgg19model = load_model('weight/vgg19.h5')\n",
    "inceptionv3model = load_model('weight/inceptionv3.h5')\n",
    "inceptionresnetv2model = load_model('weight/inceptionresnetv2.h5')"
   ]
  },
  {
   "cell_type": "code",
   "execution_count": 6,
   "metadata": {
    "collapsed": false
   },
   "outputs": [],
   "source": [
    "resnet50model = load_model('weight/resnet.h5')\n",
    "densenet161model = load_model('weight/densenet161.h5')\n",
    "densenet121model = load_model('weight/densenet121.h5')"
   ]
  },
  {
   "cell_type": "code",
   "execution_count": 7,
   "metadata": {
    "collapsed": false
   },
   "outputs": [],
   "source": [
    "xception_3model = load_model('weight/xception_3.h5')\n",
    "inceptionresnet_imgenmodel = load_model('weight/inceptionresnet_imgen.h5')\n",
    "xceptionmodel = load_model('weight/xception.h5')"
   ]
  },
  {
   "cell_type": "code",
   "execution_count": 18,
   "metadata": {
    "collapsed": false
   },
   "outputs": [
    {
     "name": "stdout",
     "output_type": "stream",
     "text": [
      "vgg16预测值： [ 0.04030922  0.05198664  0.04576016  0.03462233  0.0405056   0.04720834\n",
      "  0.03156305  0.03549469  0.02980311  0.02442663  0.02930064  0.04109455\n",
      "  0.02023959  0.03941218  0.02918119  0.03207836  0.03228459  0.0224086\n",
      "  0.03316002  0.02937215  0.04250059  0.03292921  0.02869955  0.02769777\n",
      "  0.03902235  0.03274927  0.02354276  0.03137521  0.02809394  0.02317759]\n",
      "类别： 2 预测概率： 0.0519866421819\n",
      "vgg19预测值： [ 0.03682673  0.06736338  0.05077228  0.04636459  0.04861705  0.05080442\n",
      "  0.02665152  0.03844097  0.02792711  0.02391993  0.0236251   0.03809319\n",
      "  0.0173649   0.04431999  0.02134524  0.02791147  0.0292445   0.02141563\n",
      "  0.02777984  0.03977154  0.03726387  0.03044444  0.03043816  0.02524571\n",
      "  0.03725617  0.03177743  0.02287133  0.02867191  0.02478328  0.02268826]\n",
      "类别： 2 预测概率： 0.0673633813858\n",
      "inception预测值： [  1.79172330e-05   3.85681415e-05   9.71449554e-01   5.43671602e-04\n",
      "   1.08141964e-02   1.88674152e-04   1.48135773e-03   9.54369549e-03\n",
      "   1.71890075e-03   2.79939431e-05   5.69222248e-05   2.54840474e-04\n",
      "   8.20611240e-06   9.75280942e-04   7.34404093e-05   1.37362420e-07\n",
      "   1.12635189e-06   2.20913375e-06   1.58454604e-05   1.31467300e-06\n",
      "   9.16254430e-06   4.39478288e-04   1.44671424e-06   1.10725057e-04\n",
      "   1.89258333e-03   4.18692725e-05   7.67347865e-06   2.82505353e-04\n",
      "   6.19942512e-07   5.70774139e-09]\n",
      "类别： 3 预测概率： 0.971449553967\n",
      "inceptionresnet预测值： [  2.01106104e-07   4.49816895e-07   9.93598938e-01   2.56273761e-05\n",
      "   1.69975392e-04   6.54688192e-05   7.71228770e-07   4.86719795e-03\n",
      "   4.57424505e-07   3.51029412e-05   4.15154773e-06   6.57852652e-05\n",
      "   1.34780947e-07   7.50748790e-04   1.52715038e-05   2.04330039e-10\n",
      "   6.73692114e-07   9.14663634e-09   1.66665995e-04   2.25394778e-08\n",
      "   1.00718808e-06   2.04108248e-04   1.59319725e-07   1.42154113e-05\n",
      "   2.33871583e-06   2.95476480e-06   5.75414833e-06   6.07264099e-07\n",
      "   1.14260149e-06   1.62499889e-10]\n",
      "类别： 3 预测概率： 0.993598937988\n",
      "xception预测值： [  3.43995955e-04   8.99357838e-06   9.97246385e-01   1.91468516e-05\n",
      "   1.23552731e-04   3.67534027e-04   1.46740956e-06   3.01211228e-04\n",
      "   6.12436907e-07   1.20481332e-06   7.26382350e-05   6.71705720e-06\n",
      "   2.14844385e-05   7.50593899e-05   7.12539031e-06   1.40629561e-06\n",
      "   1.42483541e-05   3.26746449e-05   8.52901721e-04   6.50929962e-07\n",
      "   5.18574507e-06   3.69061017e-05   3.42761887e-05   6.47145498e-07\n",
      "   7.63344578e-05   4.59269722e-05   4.07371881e-05   6.71454982e-05\n",
      "   1.93176369e-04   7.46542526e-07]\n",
      "类别： 3 预测概率： 0.997246384621\n",
      "resnet50预测值： [  1.02304774e-07   4.94694667e-08   9.46628153e-01   9.28677196e-07\n",
      "   4.11063326e-07   1.04134486e-07   3.67775250e-08   5.33446334e-02\n",
      "   1.90202942e-09   5.65137381e-10   9.75973720e-08   2.95675022e-06\n",
      "   9.65840385e-08   5.06324618e-08   5.99929040e-09   1.65354908e-09\n",
      "   5.33780076e-10   3.06564996e-10   3.50255232e-06   1.48399295e-07\n",
      "   1.90191224e-10   2.02907979e-09   1.63271452e-05   1.54177570e-07\n",
      "   9.43638156e-07   1.23170844e-06   6.95432245e-09   8.05144964e-08\n",
      "   1.35201770e-08   6.44658840e-11]\n",
      "类别： 3 预测概率： 0.946628153324\n",
      "densenet161预测值： [  4.25412203e-04   2.77136249e-04   9.98378754e-01   9.35479329e-06\n",
      "   1.74023866e-04   5.43890746e-06   1.63711277e-07   1.06411881e-05\n",
      "   6.34875614e-04   4.77684898e-06   1.50911827e-09   1.07645337e-06\n",
      "   1.18231867e-07   5.18006345e-05   1.13748683e-07   1.55906144e-09\n",
      "   5.25590949e-09   1.79190018e-09   6.81900625e-09   2.00371293e-08\n",
      "   2.88529986e-06   1.97761092e-05   2.82553856e-07   5.68059488e-10\n",
      "   3.34316246e-06   5.90644822e-09   5.12627718e-10   7.45153661e-10\n",
      "   5.10753129e-09   1.91278868e-11]\n",
      "类别： 3 预测概率： 0.998378753662\n",
      "densenet121预测值： [  3.09022307e-01   7.86423497e-03   6.81610703e-01   4.69908700e-04\n",
      "   1.04289553e-04   2.01307776e-05   1.06552056e-04   5.07938375e-06\n",
      "   2.31641295e-07   5.87472915e-09   3.01298009e-09   4.90954335e-08\n",
      "   2.36099873e-09   5.02111470e-05   2.08354052e-07   5.44749668e-08\n",
      "   7.03072434e-10   1.75165038e-08   3.72214515e-07   1.53683766e-06\n",
      "   3.72072418e-06   4.28891553e-06   3.18005988e-07   1.22024840e-05\n",
      "   7.07492640e-04   8.50423385e-06   2.29404964e-06   5.09127540e-06\n",
      "   1.98141223e-07   2.02205541e-09]\n",
      "类别： 3 预测概率： 0.681610703468\n",
      "xception冻结100层预测值： [  1.09559173e-35   1.73956109e-26   1.00000000e+00   1.08248438e-21\n",
      "   2.55402711e-23   4.51206791e-23   1.22190662e-38   8.12027415e-23\n",
      "   0.00000000e+00   3.45621684e-35   5.44855625e-30   2.71599180e-22\n",
      "   1.49603614e-33   4.50799730e-35   0.00000000e+00   0.00000000e+00\n",
      "   0.00000000e+00   0.00000000e+00   0.00000000e+00   0.00000000e+00\n",
      "   0.00000000e+00   0.00000000e+00   0.00000000e+00   0.00000000e+00\n",
      "   1.24595083e-36   2.76698181e-38   0.00000000e+00   0.00000000e+00\n",
      "   0.00000000e+00   0.00000000e+00]\n",
      "类别： 3 预测概率： 1.0\n",
      "inceptionresnet图像增强预测值： [  1.92670850e-19   6.78610620e-18   1.00000000e+00   3.44897206e-13\n",
      "   7.08688100e-13   1.16493100e-12   8.00992672e-21   1.46379824e-08\n",
      "   5.69984683e-17   9.79921035e-17   2.45375094e-14   1.93700646e-16\n",
      "   4.30002562e-17   1.89823323e-13   6.82327432e-19   1.19350834e-26\n",
      "   5.85559186e-26   4.89270529e-23   1.48181558e-16   8.65545581e-26\n",
      "   3.49701724e-24   1.38075864e-20   2.40988656e-26   1.05161949e-22\n",
      "   1.56256537e-19   4.59742866e-23   3.48459489e-23   2.25420837e-20\n",
      "   1.43296510e-21   1.32225154e-28]\n",
      "类别： 3 预测概率： 1.0\n"
     ]
    }
   ],
   "source": [
    "img = Image.open('database/test_img/3/290.jpg')\n",
    "vgg16preds = predict(vgg16model, img, target_size=(64, 64))\n",
    "vgg19preds = predict(vgg19model, img, target_size=(64, 64))\n",
    "inceptionv3preds = predict(inceptionv3model, img, target_size=(299, 299))\n",
    "inceptionresnetv2preds = predict(inceptionresnetv2model, img, target_size=(299, 299))\n",
    "xceptionpreds = predict(xceptionmodel, img, target_size=(299, 299))\n",
    "resnet50preds = predict(resnet50model, img, target_size=(224, 224))\n",
    "densenet161preds = predict(densenet161model, img, target_size=(224, 224))\n",
    "densenet121preds = predict(densenet121model, img, target_size=(224, 224))\n",
    "xception_3preds = predict(xception_3model, img, target_size=(299, 299))\n",
    "inceptionresnet_imgenpreds = predict(inceptionresnet_imgenmodel, img, target_size=(299, 299))\n",
    "\n",
    "vgg16preds_s=turn(vgg16preds)\n",
    "vgg19preds_s=turn(vgg19preds)\n",
    "inceptionv3preds_s=turn(inceptionv3preds)\n",
    "inceptionresnetv2preds_s=turn(inceptionresnetv2preds)\n",
    "xceptionpreds_s=turn(xceptionpreds)\n",
    "resnet50preds_s=turn(resnet50preds)\n",
    "densenet161preds_s=turn(densenet161preds)\n",
    "densenet121preds_s=turn(densenet121preds)\n",
    "xception_3preds_s=turn(xception_3preds)\n",
    "inceptionresnet_imgenpreds_s=turn(inceptionresnet_imgenpreds)\n",
    "\n",
    "print('vgg16预测值：',vgg16preds_s)\n",
    "print('类别：',np.argmax(vgg16preds_s)+1,'预测概率：',np.max(vgg16preds_s))\n",
    "print('vgg19预测值：',vgg19preds_s)\n",
    "print('类别：',np.argmax(vgg19preds_s)+1,'预测概率：',np.max(vgg19preds_s))\n",
    "print('inception预测值：',inceptionv3preds_s)\n",
    "print('类别：',np.argmax(inceptionv3preds_s)+1,'预测概率：',np.max(inceptionv3preds_s))\n",
    "print('inceptionresnet预测值：',inceptionresnetv2preds_s)\n",
    "print('类别：',np.argmax(inceptionresnetv2preds_s)+1,'预测概率：',np.max(inceptionresnetv2preds_s))\n",
    "print('xception预测值：',xceptionpreds_s)\n",
    "print('类别：',np.argmax(xceptionpreds_s)+1,'预测概率：',np.max(xceptionpreds_s))\n",
    "print('resnet50预测值：',resnet50preds_s)\n",
    "print('类别：',np.argmax(resnet50preds_s)+1,'预测概率：',np.max(resnet50preds_s))\n",
    "print('densenet161预测值：',densenet161preds_s)\n",
    "print('类别：',np.argmax(densenet161preds_s)+1,'预测概率：',np.max(densenet161preds_s))\n",
    "print('densenet121预测值：',densenet121preds_s)\n",
    "print('类别：',np.argmax(densenet121preds_s)+1,'预测概率：',np.max(densenet121preds_s))\n",
    "print('xception冻结100层预测值：',xception_3preds_s)\n",
    "print('类别：',np.argmax(xception_3preds_s)+1,'预测概率：',np.max(xception_3preds_s))\n",
    "print('inceptionresnet图像增强预测值：',inceptionresnet_imgenpreds_s)\n",
    "print('类别：',np.argmax(inceptionresnet_imgenpreds_s)+1,'预测概率：',np.max(inceptionresnet_imgenpreds_s))"
   ]
  },
  {
   "cell_type": "code",
   "execution_count": null,
   "metadata": {
    "collapsed": true
   },
   "outputs": [],
   "source": []
  }
 ],
 "metadata": {
  "anaconda-cloud": {},
  "kernelspec": {
   "display_name": "Python [default]",
   "language": "python",
   "name": "python3"
  },
  "language_info": {
   "codemirror_mode": {
    "name": "ipython",
    "version": 3
   },
   "file_extension": ".py",
   "mimetype": "text/x-python",
   "name": "python",
   "nbconvert_exporter": "python",
   "pygments_lexer": "ipython3",
   "version": "3.5.2"
  }
 },
 "nbformat": 4,
 "nbformat_minor": 1
}
